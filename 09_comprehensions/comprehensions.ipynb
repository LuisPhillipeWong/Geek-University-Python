{
 "cells": [
  {
   "cell_type": "code",
   "execution_count": 18,
   "metadata": {},
   "outputs": [
    {
     "name": "stdout",
     "output_type": "stream",
     "text": [
      "[2, 4, 6, 8, 10]\n"
     ]
    }
   ],
   "source": [
    "#using FOR\n",
    "numeros_double =[]\n",
    "numeros = [1, 2, 3, 4, 5]\n",
    "for numero in numeros:\n",
    "    numeros_double.append(numero*2)\n",
    "print(numeros_double)\n",
    "    "
   ]
  },
  {
   "cell_type": "code",
   "execution_count": 15,
   "metadata": {},
   "outputs": [
    {
     "name": "stdout",
     "output_type": "stream",
     "text": [
      "[2, 4, 6, 8, 10]\n"
     ]
    }
   ],
   "source": [
    "#using list comprehensions\n",
    "numeros = [1, 2, 3, 4, 5]\n",
    "print([numero * 2 for numero in numeros])\n"
   ]
  },
  {
   "cell_type": "code",
   "execution_count": 7,
   "metadata": {},
   "outputs": [
    {
     "name": "stdout",
     "output_type": "stream",
     "text": [
      "[10, 20, 30, 40, 50]\n"
     ]
    }
   ],
   "source": [
    "def funcao(valor):\n",
    "    return valor*10\n",
    "\n",
    "res = [funcao(numero) for numero in numeros]\n",
    "print(res)"
   ]
  },
  {
   "cell_type": "code",
   "execution_count": 19,
   "metadata": {},
   "outputs": [
    {
     "name": "stdout",
     "output_type": "stream",
     "text": [
      "['G', 'E', 'E', 'K', ' ', 'U', 'N', 'I', 'V', 'E', 'R', 'S', 'I', 'T', 'Y']\n"
     ]
    }
   ],
   "source": [
    "nome = 'Geek University'\n",
    "print([letra.upper() for letra in nome])"
   ]
  },
  {
   "cell_type": "code",
   "execution_count": 32,
   "metadata": {},
   "outputs": [
    {
     "name": "stdout",
     "output_type": "stream",
     "text": [
      "['MARIA', 'JULIA', 'PEDRO', 'GUILHERME', 'VANESSA']\n"
     ]
    }
   ],
   "source": [
    "amigos = ['maria', 'julia', 'pedro', 'guilherme', 'vanessa']\n",
    "print([amigo.upper() for amigo in amigos])\n"
   ]
  },
  {
   "cell_type": "code",
   "execution_count": 29,
   "metadata": {},
   "outputs": [
    {
     "name": "stdout",
     "output_type": "stream",
     "text": [
      "[0, 10, 20, 30, 40, 50, 60, 70, 80, 90]\n"
     ]
    }
   ],
   "source": [
    "'''Here, list comprehension checks:\n",
    "\n",
    "Is y divisible by 2 or not?\n",
    "Is y divisible by 5 or not?\n",
    "If y satisfies both conditions, y is appended to num_list.'''\n",
    "\n",
    "num_list = [y for y in range(100) if y % 2 == 0 if y % 5 == 0]\n",
    "print(num_list)"
   ]
  },
  {
   "cell_type": "code",
   "execution_count": 33,
   "metadata": {},
   "outputs": [
    {
     "name": "stdout",
     "output_type": "stream",
     "text": [
      "[2, 4, 6]\n",
      "[1, 3, 5]\n"
     ]
    }
   ],
   "source": [
    "numeros = [1,2,3,4,5,6]\n",
    "pares = [num for num in numeros if num %2 ==0]\n",
    "impares = [num for num in numeros if num %2 !=0]\n",
    "print(pares)\n",
    "print(impares)"
   ]
  },
  {
   "cell_type": "code",
   "execution_count": null,
   "metadata": {},
   "outputs": [],
   "source": [
    "#refatorando\n",
    "pares = [num for num in numeros if not num % 2]  #0 = False\n",
    "impares = [num for num in numeros if num % 2]"
   ]
  },
  {
   "cell_type": "code",
   "execution_count": 36,
   "metadata": {},
   "outputs": [
    {
     "name": "stdout",
     "output_type": "stream",
     "text": [
      "[0.5, 4, 1.5, 8, 2.5, 12]\n"
     ]
    }
   ],
   "source": [
    "'''numeros = [1,2,3,4,5,6]\n",
    "for numero in numeros:\n",
    "    if numero %2==0:\n",
    "        numero *2\n",
    "    else:\n",
    "        numero/2'''\n",
    "\n",
    "numeros = [1,2,3,4,5,6]\n",
    "res = [numero *2 if numero %2==0 else numero/2 for numero in numeros]\n",
    "print(res)\n",
    "\n",
    "\n",
    "\n"
   ]
  }
 ],
 "metadata": {
  "interpreter": {
   "hash": "d410528699a2498513adfb95593a389ad4cbe234ed01963341fdfbff95c5ec33"
  },
  "kernelspec": {
   "display_name": "Python 3.10.1 64-bit (system)",
   "language": "python",
   "name": "python3"
  },
  "language_info": {
   "codemirror_mode": {
    "name": "ipython",
    "version": 3
   },
   "file_extension": ".py",
   "mimetype": "text/x-python",
   "name": "python",
   "nbconvert_exporter": "python",
   "pygments_lexer": "ipython3",
   "version": "3.10.1"
  },
  "orig_nbformat": 4
 },
 "nbformat": 4,
 "nbformat_minor": 2
}
