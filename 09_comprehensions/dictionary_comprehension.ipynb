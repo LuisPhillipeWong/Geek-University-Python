{
 "cells": [
  {
   "cell_type": "code",
   "execution_count": null,
   "metadata": {},
   "outputs": [],
   "source": [
    "'''\n",
    "\n",
    "lista = [1,2,3,4]\n",
    "tupla = (1,2,3,4)\n",
    "conjunto/set = {1,2,3,4}\n",
    "dicionario = {'a':1, 'b':2, 'c':3, 'd':4}\n",
    "\n",
    "Sintaxe\n",
    "{chave: valor for valor in iterável}\n",
    "\n",
    "\n",
    "{valor for valor in iterável}\n",
    "\n",
    "'''"
   ]
  },
  {
   "cell_type": "code",
   "execution_count": 5,
   "metadata": {},
   "outputs": [
    {
     "name": "stdout",
     "output_type": "stream",
     "text": [
      "dict_items([('a', 1), ('b', 2), ('c', 3), ('d', 4), ('e', 5)])\n",
      "{'a': 1, 'b': 4, 'c': 9, 'd': 16, 'e': 25}\n"
     ]
    }
   ],
   "source": [
    "numeros = {'a':1, 'b':2, 'c':3, 'd':4, 'e':5}\n",
    "quadrado = {chave: valor ** 2 for chave, valor in numeros.items()}\n",
    "#print(numeros.items())    ([('a', 1), ('b', 2), ('c', 3), ('d', 4), ('e', 5)])\n",
    "print(quadrado)"
   ]
  },
  {
   "cell_type": "code",
   "execution_count": 7,
   "metadata": {},
   "outputs": [
    {
     "name": "stdout",
     "output_type": "stream",
     "text": [
      "{1: 1, 2: 4, 3: 9, 4: 16, 5: 25}\n"
     ]
    }
   ],
   "source": [
    "numeros = [1,2,3,4,5]\n",
    "quadrado = {valor: valor ** 2 for valor in numeros}\n",
    "#print(numeros.items())    ([('a', 1), ('b', 2), ('c', 3), ('d', 4), ('e', 5)])\n",
    "print(quadrado)"
   ]
  },
  {
   "cell_type": "code",
   "execution_count": 10,
   "metadata": {},
   "outputs": [
    {
     "name": "stdout",
     "output_type": "stream",
     "text": [
      "{'a': 1, 'b': 2, 'c': 3, 'd': 4, 'e': 5}\n"
     ]
    }
   ],
   "source": [
    "chaves = 'abcde'\n",
    "valores = [1,2,3,4,5]\n",
    "\n",
    "mistura = {chaves[i]: valores[i] for i in range(0, len(chaves))}\n",
    "print (mistura)"
   ]
  },
  {
   "cell_type": "code",
   "execution_count": 12,
   "metadata": {},
   "outputs": [
    {
     "name": "stdout",
     "output_type": "stream",
     "text": [
      "{1: 'impar', 2: 'par', 3: 'impar', 4: 'par', 5: 'impar'}\n"
     ]
    }
   ],
   "source": [
    "numeros = [1,2,3,4,5]\n",
    "res = {num:('par' if num %2 == 0 else 'impar') for num in numeros}\n",
    "print(res)"
   ]
  }
 ],
 "metadata": {
  "interpreter": {
   "hash": "d410528699a2498513adfb95593a389ad4cbe234ed01963341fdfbff95c5ec33"
  },
  "kernelspec": {
   "display_name": "Python 3.10.1 64-bit (system)",
   "language": "python",
   "name": "python3"
  },
  "language_info": {
   "codemirror_mode": {
    "name": "ipython",
    "version": 3
   },
   "file_extension": ".py",
   "mimetype": "text/x-python",
   "name": "python",
   "nbconvert_exporter": "python",
   "pygments_lexer": "ipython3",
   "version": "3.10.1"
  },
  "orig_nbformat": 4
 },
 "nbformat": 4,
 "nbformat_minor": 2
}
