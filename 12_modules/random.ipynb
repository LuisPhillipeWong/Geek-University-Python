{
 "cells": [
  {
   "cell_type": "code",
   "execution_count": 28,
   "metadata": {},
   "outputs": [
    {
     "name": "stdout",
     "output_type": "stream",
     "text": [
      "0.869628551699549\n",
      "6\n",
      "4\n",
      "a\n",
      "['a', 'a']\n",
      "['a', 'c']\n"
     ]
    }
   ],
   "source": [
    "import random as rd\n",
    "\n",
    "print(rd.random()) \n",
    "print(rd.randint(1, 10)) \n",
    "print(rd.randrange(1, 10)) \n",
    "print(rd.choice(['a', 'b', 'c'])) #choice() returns a random element from a non-empty sequence.\n",
    "print(rd.choices(['a', 'b', 'c'], k=2)) \n",
    "print(rd.sample(['a', 'b', 'c'], k=2))  # k=2 means 2 random elements"
   ]
  },
  {
   "cell_type": "code",
   "execution_count": 29,
   "metadata": {},
   "outputs": [
    {
     "name": "stdout",
     "output_type": "stream",
     "text": [
      "['scissors', 'rock', 'paper']\n"
     ]
    }
   ],
   "source": [
    "cards = ['paper' , 'rock' , 'scissors']\n",
    "rd.shuffle(cards)\n",
    "print(cards)"
   ]
  }
 ],
 "metadata": {
  "interpreter": {
   "hash": "d410528699a2498513adfb95593a389ad4cbe234ed01963341fdfbff95c5ec33"
  },
  "kernelspec": {
   "display_name": "Python 3.10.1 64-bit (system)",
   "language": "python",
   "name": "python3"
  },
  "language_info": {
   "codemirror_mode": {
    "name": "ipython",
    "version": 3
   },
   "file_extension": ".py",
   "mimetype": "text/x-python",
   "name": "python",
   "nbconvert_exporter": "python",
   "pygments_lexer": "ipython3",
   "version": "3.10.1"
  },
  "orig_nbformat": 4
 },
 "nbformat": 4,
 "nbformat_minor": 2
}
