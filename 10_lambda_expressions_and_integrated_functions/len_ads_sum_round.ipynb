{
 "cells": [
  {
   "cell_type": "code",
   "execution_count": null,
   "metadata": {},
   "outputs": [],
   "source": [
    "'''\n",
    "Len, Abs, Sum, Round\n",
    "\n",
    "#Len\n",
    "\n",
    "len() -> Retorna o tamanho (ou seja, o número de itens) de um iterável.\n",
    "'''"
   ]
  },
  {
   "cell_type": "code",
   "execution_count": 1,
   "metadata": {},
   "outputs": [
    {
     "name": "stdout",
     "output_type": "stream",
     "text": [
      "15\n",
      "5\n",
      "5\n",
      "5\n",
      "3\n",
      "10\n"
     ]
    }
   ],
   "source": [
    "#revisando\n",
    "print(len('Geek University'))\n",
    "print(len([1,2,3,4,5]))\n",
    "print(len((1,2,3,4,5)))\n",
    "print(len({1,2,3,4,5}))\n",
    "print(len({'a': 1, 'b':2, 'c': 3}))\n",
    "print(len(range(0,10)))"
   ]
  },
  {
   "cell_type": "code",
   "execution_count": 2,
   "metadata": {},
   "outputs": [
    {
     "name": "stdout",
     "output_type": "stream",
     "text": [
      "15\n"
     ]
    }
   ],
   "source": [
    "#Dunder len\n",
    "print('Geek University'.__len__())"
   ]
  },
  {
   "cell_type": "code",
   "execution_count": 5,
   "metadata": {},
   "outputs": [
    {
     "name": "stdout",
     "output_type": "stream",
     "text": [
      "5\n",
      "3\n",
      "3.14\n"
     ]
    }
   ],
   "source": [
    "#ABS() -> Retorna o valor absoluto de um número inteiro ou real.\n",
    "#De forma simplificada, retorna o valor real sem o sinal\n",
    "print(abs(-5))\n",
    "print(abs(3))\n",
    "print(abs(-3.14))"
   ]
  },
  {
   "cell_type": "code",
   "execution_count": 8,
   "metadata": {},
   "outputs": [
    {
     "name": "stdout",
     "output_type": "stream",
     "text": [
      "108\n",
      "113\n",
      "14\n"
     ]
    }
   ],
   "source": [
    "#SUM() -> Retorna a soma dos elementos\n",
    "print(sum([1, 2, 5, 4, 96]))\n",
    "print(sum([1, 2, 5, 4, 96], 5))\n",
    "print(sum({'a': 1, 'b': 5, 'c': 8}.values()))\n",
    "\n",
    "print(sum('Geek')) # ERROR"
   ]
  },
  {
   "cell_type": "code",
   "execution_count": 10,
   "metadata": {},
   "outputs": [
    {
     "name": "stdout",
     "output_type": "stream",
     "text": [
      "10.2\n",
      "10\n",
      "11\n",
      "1.21\n",
      "1.22\n"
     ]
    }
   ],
   "source": [
    "'''\n",
    "ROUND() -> Retorna número arredondado para 'n' dígito de precisão.\n",
    "Se a precisão não for informada, retorna o inteiro mais próximo da entrada\n",
    "'''\n",
    "\n",
    "print(round(10.2))\n",
    "print(round(10.5))\n",
    "print(round(10.6))\n",
    "print(round(1.212121212121, 2))\n",
    "print(round(1.21999999, 2))"
   ]
  },
  {
   "cell_type": "code",
   "execution_count": 11,
   "metadata": {},
   "outputs": [
    {
     "name": "stdout",
     "output_type": "stream",
     "text": [
      "<zip object at 0x000001699FE6B140>\n",
      "<class 'zip'>\n"
     ]
    }
   ],
   "source": [
    "'''\n",
    "ZIP()\n",
    "\n",
    "Cria um iterável (zip object) que agrega elemento de cada um dos iteráveis passados como entrada em pares.\n",
    "'''\n",
    "\n",
    "lista1 = [1, 2, 3]\n",
    "lista2 = [4, 5, 6]\n",
    "\n",
    "zip1 = zip(lista1, lista2)\n",
    "print(zip1)\n",
    "print(type(zip1))"
   ]
  },
  {
   "cell_type": "code",
   "execution_count": 12,
   "metadata": {},
   "outputs": [
    {
     "name": "stdout",
     "output_type": "stream",
     "text": [
      "[(1, 4), (2, 5), (3, 6)]\n",
      "()\n",
      "set()\n",
      "{}\n"
     ]
    }
   ],
   "source": [
    "#Podemos gerar Lista, Tupla, Conjunto ou dicionário\n",
    "print(list(zip1))\n",
    "print(tuple(zip1))\n",
    "print(set(zip1))\n",
    "print(dict(zip1))"
   ]
  },
  {
   "cell_type": "code",
   "execution_count": 13,
   "metadata": {},
   "outputs": [
    {
     "name": "stdout",
     "output_type": "stream",
     "text": [
      "[(1, 4), (2, 5), (3, 6)]\n",
      "((1, 4), (2, 5), (3, 6))\n",
      "{(2, 5), (1, 4), (3, 6)}\n",
      "{1: 4, 2: 5, 3: 6}\n"
     ]
    }
   ],
   "source": [
    "#Assim que é utilizado o 'zip' ele desaloca espaço na memória, tendo que 'zipar' se for usar novamente\n",
    "zip1 = zip(lista1, lista2)\n",
    "print(list(zip1))\n",
    "zip1 = zip(lista1, lista2)\n",
    "print(tuple(zip1))\n",
    "zip1 = zip(lista1, lista2)\n",
    "print(set(zip1))\n",
    "zip1 = zip(lista1, lista2)\n",
    "print(dict(zip1))"
   ]
  }
 ],
 "metadata": {
  "interpreter": {
   "hash": "d410528699a2498513adfb95593a389ad4cbe234ed01963341fdfbff95c5ec33"
  },
  "kernelspec": {
   "display_name": "Python 3.10.1 64-bit (system)",
   "language": "python",
   "name": "python3"
  },
  "language_info": {
   "codemirror_mode": {
    "name": "ipython",
    "version": 3
   },
   "file_extension": ".py",
   "mimetype": "text/x-python",
   "name": "python",
   "nbconvert_exporter": "python",
   "pygments_lexer": "ipython3",
   "version": "3.10.1"
  },
  "orig_nbformat": 4
 },
 "nbformat": 4,
 "nbformat_minor": 2
}
