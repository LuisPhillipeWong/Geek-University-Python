{
 "cells": [
  {
   "cell_type": "code",
   "execution_count": null,
   "metadata": {},
   "outputs": [],
   "source": [
    "'''\n",
    "REDUCE\n",
    "\n",
    "A partir do Python3+ a função reduce() não é mais uma função integrada (built-in).\n",
    "Agora temos que importar e utilizar a partir do módulo 'functools'\n",
    "\n",
    "Guido Van Rossum: Utilize a função se realmente precisar dela.\n",
    "Em todo o caso, 99% das vezes um loop FOR é mais legível  \n",
    "    \n",
    "'''"
   ]
  },
  {
   "cell_type": "code",
   "execution_count": null,
   "metadata": {},
   "outputs": [],
   "source": [
    "'''\n",
    "Imagina que tenha uma coleção de dados:\n",
    "dados = [a1,a2,a3,...,an]\n",
    "\n",
    "Tem uma função que recebe dois parâmetros\n",
    "def funcao (x,y):\n",
    "    return x*y\n",
    "    \n",
    "A função reduce() funciona da seguinte forma:\n",
    "Passo 1: res1 = f(a1, a2) # Aplica função nos dois primeiros elementos da coleção e guarda o resultado.\n",
    "Passo 2: f(res1, a3) #Aplica a função passando o resultado do passo1 mais o terceiro elemento e guarda o res.\n",
    "Passo 3: res3 = f(res2,a4)\n",
    "'''"
   ]
  },
  {
   "cell_type": "code",
   "execution_count": 2,
   "metadata": {},
   "outputs": [
    {
     "name": "stdout",
     "output_type": "stream",
     "text": [
      "1848\n"
     ]
    }
   ],
   "source": [
    "from functools import reduce\n",
    "dados = [2,3,4,7,11]\n",
    "multi = lambda x,y: x*y\n",
    "res = reduce(multi, dados)\n",
    "print(res)\n"
   ]
  },
  {
   "cell_type": "code",
   "execution_count": 3,
   "metadata": {},
   "outputs": [
    {
     "name": "stdout",
     "output_type": "stream",
     "text": [
      "1848\n"
     ]
    }
   ],
   "source": [
    "#utilizando FOR\n",
    "res = 1\n",
    "for n in dados:\n",
    "    res = res*n\n",
    "print(res)"
   ]
  }
 ],
 "metadata": {
  "interpreter": {
   "hash": "d410528699a2498513adfb95593a389ad4cbe234ed01963341fdfbff95c5ec33"
  },
  "kernelspec": {
   "display_name": "Python 3.10.1 64-bit (system)",
   "language": "python",
   "name": "python3"
  },
  "language_info": {
   "codemirror_mode": {
    "name": "ipython",
    "version": 3
   },
   "file_extension": ".py",
   "mimetype": "text/x-python",
   "name": "python",
   "nbconvert_exporter": "python",
   "pygments_lexer": "ipython3",
   "version": "3.10.1"
  },
  "orig_nbformat": 4
 },
 "nbformat": 4,
 "nbformat_minor": 2
}
