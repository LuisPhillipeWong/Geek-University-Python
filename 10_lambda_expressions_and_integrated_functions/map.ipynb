{
 "cells": [
  {
   "cell_type": "code",
   "execution_count": 31,
   "metadata": {},
   "outputs": [
    {
     "name": "stdout",
     "output_type": "stream",
     "text": [
      "12.566370614359172\n"
     ]
    }
   ],
   "source": [
    "import math\n",
    "def area(r):\n",
    "    \"\"\"Calcula a área de um círuclo com raio 'r'.\"\"\"\n",
    "    return math.pi * (r**2) \n",
    "print(area(2))"
   ]
  },
  {
   "cell_type": "code",
   "execution_count": 32,
   "metadata": {},
   "outputs": [
    {
     "name": "stdout",
     "output_type": "stream",
     "text": [
      "[12.566370614359172, 78.53981633974483, 158.36768566746147, 216.4243179058009, 314.1592653589793, 6082.12337734984]\n"
     ]
    }
   ],
   "source": [
    "#forma comum\n",
    "raios = [2,5,7.1,8.3,10,44]\n",
    "areas = []\n",
    "for r in raios:\n",
    "    areas.append((area(r))) \n",
    "print(areas)"
   ]
  },
  {
   "cell_type": "code",
   "execution_count": 33,
   "metadata": {},
   "outputs": [
    {
     "name": "stdout",
     "output_type": "stream",
     "text": [
      "[12.566370614359172, 78.53981633974483, 158.36768566746147, 216.4243179058009, 314.1592653589793, 6082.12337734984]\n"
     ]
    }
   ],
   "source": [
    "#map\n",
    "#Recebe 2 parâmetros: função + iterável\n",
    "areas = map(area,raios)\n",
    "print(list(areas))\n",
    "\n",
    "#OBS: Após utilizar a função map() depois da primeira utilização do resultado, ele zera. "
   ]
  },
  {
   "cell_type": "code",
   "execution_count": 34,
   "metadata": {},
   "outputs": [
    {
     "name": "stdout",
     "output_type": "stream",
     "text": [
      "[12.566370614359172, 78.53981633974483, 158.36768566746147, 216.4243179058009, 314.1592653589793, 6082.12337734984]\n"
     ]
    }
   ],
   "source": [
    "#Map + Lambda\n",
    "print(list(map(lambda r: math.pi * (r**2), raios)))"
   ]
  },
  {
   "cell_type": "code",
   "execution_count": 36,
   "metadata": {},
   "outputs": [
    {
     "name": "stdout",
     "output_type": "stream",
     "text": [
      "[('Berlim', 29), ('Cairo', 36), ('Buenos Aires', 19), ('Los Angeles', 20)]\n",
      "[('Berlim', 84.2), ('Cairo', 96.8), ('Buenos Aires', 66.2), ('Los Angeles', 68.0)]\n"
     ]
    }
   ],
   "source": [
    "#Fareinheit = 9/5*c+32\n",
    "\n",
    "cidades =[('Berlim', 29), ('Cairo', 36), ('Buenos Aires', 19), ('Los Angeles', 20)]\n",
    "print(cidades)\n",
    "\n",
    "celsius_to_f = lambda dado: (dado[0], 9/5*dado[1]+32)\n",
    "print(list(map(celsius_to_f, cidades)))"
   ]
  }
 ],
 "metadata": {
  "interpreter": {
   "hash": "d410528699a2498513adfb95593a389ad4cbe234ed01963341fdfbff95c5ec33"
  },
  "kernelspec": {
   "display_name": "Python 3.10.1 64-bit (system)",
   "language": "python",
   "name": "python3"
  },
  "language_info": {
   "codemirror_mode": {
    "name": "ipython",
    "version": 3
   },
   "file_extension": ".py",
   "mimetype": "text/x-python",
   "name": "python",
   "nbconvert_exporter": "python",
   "pygments_lexer": "ipython3",
   "version": "3.10.1"
  },
  "orig_nbformat": 4
 },
 "nbformat": 4,
 "nbformat_minor": 2
}
