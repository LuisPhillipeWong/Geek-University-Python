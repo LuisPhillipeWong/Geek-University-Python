{
 "cells": [
  {
   "cell_type": "code",
   "execution_count": 1,
   "metadata": {},
   "outputs": [
    {
     "name": "stdout",
     "output_type": "stream",
     "text": [
      "Média: 1.84\n"
     ]
    }
   ],
   "source": [
    "'''\n",
    "Filter\n",
    "\n",
    "filter() -> Serve para filtrar dados de uma determinada coleção\n",
    "'''\n",
    "import statistics\n",
    "\n",
    "dados = [1.3, 2.7, 0.8, 4.5,-0.1]\n",
    "media = statistics.mean(dados)\n",
    "print(f'Média: {media}')"
   ]
  },
  {
   "cell_type": "code",
   "execution_count": 2,
   "metadata": {},
   "outputs": [
    {
     "name": "stdout",
     "output_type": "stream",
     "text": [
      "[2.7, 4.5]\n"
     ]
    }
   ],
   "source": [
    "#Assim como a função map(), a filter() recebe dois parâmetros (função, iterável)\n",
    "res = filter(lambda x: x>media,dados)\n",
    "print(list(res))"
   ]
  },
  {
   "cell_type": "code",
   "execution_count": 3,
   "metadata": {},
   "outputs": [
    {
     "name": "stdout",
     "output_type": "stream",
     "text": [
      "[]\n"
     ]
    }
   ],
   "source": [
    "#Após ser 'printado' desaloca o espaço na memória\n",
    "print(list(res)) "
   ]
  },
  {
   "cell_type": "code",
   "execution_count": 9,
   "metadata": {},
   "outputs": [
    {
     "name": "stdout",
     "output_type": "stream",
     "text": [
      "['', 'Argentina', '', 'Brasil', '', 'Chile', 'Colombia', '', '']\n",
      "['Argentina', 'Brasil', 'Chile', 'Colombia']\n"
     ]
    }
   ],
   "source": [
    "paises = ['', 'Argentina','','Brasil','', 'Chile','Colombia','','']\n",
    "print(paises)\n",
    "res = filter(None,paises)\n",
    "print(list(res))"
   ]
  },
  {
   "cell_type": "code",
   "execution_count": 23,
   "metadata": {},
   "outputs": [
    {
     "name": "stdout",
     "output_type": "stream",
     "text": [
      "Usuários [{'username': 'samuel', 'tweets': ['Eu adoro bolos', 'Eu adoro pizzas']}, {'username': 'carla', 'tweets': ['Eu amo meu gato']}, {'username': 'jeff', 'tweets': []}, {'username': 'doggo', 'tweets': ['Vou sair hoje', 'Eu gosto de cachorros']}, {'username': 'gal', 'tweets': []}]\n",
      "\n"
     ]
    }
   ],
   "source": [
    "#Filtrar os usuários inativos no Twitter:\n",
    "usuarios = [\n",
    "    {\"username\": \"samuel\", \"tweets\": [\"Eu adoro bolos\", \"Eu adoro pizzas\"]},\n",
    "    {\"username\": \"carla\", \"tweets\": [\"Eu amo meu gato\"]},\n",
    "    {\"username\": \"jeff\", \"tweets\": []},\n",
    "    {\"username\": \"doggo\", \"tweets\": [\"Vou sair hoje\", \"Eu gosto de cachorros\"]},\n",
    "    {\"username\": \"gal\", \"tweets\": []}        \n",
    "            ]\n",
    "print(f'Usuários {usuarios}\\n')\n",
    "\n",
    "\n"
   ]
  },
  {
   "cell_type": "code",
   "execution_count": 22,
   "metadata": {},
   "outputs": [
    {
     "name": "stdout",
     "output_type": "stream",
     "text": [
      "Inativos: [{'username': 'jeff', 'tweets': []}, {'username': 'gal', 'tweets': []}]\n",
      "\n"
     ]
    }
   ],
   "source": [
    "#forma1\n",
    "inativos = list(filter(lambda usuario: len(usuario['tweets'])==0, usuarios))\n",
    "print(f'Inativos: {inativos}\\n')"
   ]
  },
  {
   "cell_type": "code",
   "execution_count": 21,
   "metadata": {},
   "outputs": [
    {
     "name": "stdout",
     "output_type": "stream",
     "text": [
      "Inativos: [{'username': 'jeff', 'tweets': []}, {'username': 'gal', 'tweets': []}]\n"
     ]
    }
   ],
   "source": [
    "#forma2\n",
    "inativos = list(filter(lambda usuario: not usuario['tweets'], usuarios))\n",
    "print(f'Inativos: {inativos}')"
   ]
  },
  {
   "cell_type": "code",
   "execution_count": 33,
   "metadata": {},
   "outputs": [
    {
     "name": "stdout",
     "output_type": "stream",
     "text": [
      "['Sua instrutora é Ana']\n"
     ]
    }
   ],
   "source": [
    "#combinando filter() e map()\n",
    "nomes = ['Vanessa', 'Ana', 'Maria']\n",
    "lista = list(map(lambda nome: f'Sua instrutora é {nome}', filter(lambda nome: len(nome)<5, nomes)))\n",
    "print(lista)"
   ]
  }
 ],
 "metadata": {
  "interpreter": {
   "hash": "d410528699a2498513adfb95593a389ad4cbe234ed01963341fdfbff95c5ec33"
  },
  "kernelspec": {
   "display_name": "Python 3.10.1 64-bit (system)",
   "language": "python",
   "name": "python3"
  },
  "language_info": {
   "codemirror_mode": {
    "name": "ipython",
    "version": 3
   },
   "file_extension": ".py",
   "mimetype": "text/x-python",
   "name": "python",
   "nbconvert_exporter": "python",
   "pygments_lexer": "ipython3",
   "version": "3.10.1"
  },
  "orig_nbformat": 4
 },
 "nbformat": 4,
 "nbformat_minor": 2
}
