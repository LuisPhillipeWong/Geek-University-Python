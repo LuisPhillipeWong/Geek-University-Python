{
 "cells": [
  {
   "cell_type": "code",
   "execution_count": null,
   "metadata": {},
   "outputs": [],
   "source": [
    "'''\n",
    "Min e Max\n",
    "\n",
    "max() -> Retorna o maior valor \n",
    "min() -> Retirba o menor valor\n",
    "'''"
   ]
  },
  {
   "cell_type": "code",
   "execution_count": 4,
   "metadata": {},
   "outputs": [
    {
     "name": "stdout",
     "output_type": "stream",
     "text": [
      "129\n"
     ]
    }
   ],
   "source": [
    "lista = [1, 8, 99, 34, 129]\n",
    "print (max(lista))"
   ]
  },
  {
   "cell_type": "code",
   "execution_count": 5,
   "metadata": {},
   "outputs": [
    {
     "name": "stdout",
     "output_type": "stream",
     "text": [
      "129\n"
     ]
    }
   ],
   "source": [
    "tupla = lista = (1, 8, 99, 34, 129)\n",
    "print (max(tupla))"
   ]
  },
  {
   "cell_type": "code",
   "execution_count": 7,
   "metadata": {},
   "outputs": [
    {
     "name": "stdout",
     "output_type": "stream",
     "text": [
      "129\n"
     ]
    }
   ],
   "source": [
    "conjunto = {1, 8, 99, 34, 129}\n",
    "print (max(conjunto))"
   ]
  },
  {
   "cell_type": "code",
   "execution_count": 9,
   "metadata": {},
   "outputs": [
    {
     "name": "stdout",
     "output_type": "stream",
     "text": [
      "e\n",
      "129\n"
     ]
    }
   ],
   "source": [
    "dicionario = {'a': 1, 'b': 8, 'c': 99,'d': 34, 'e': 129}\n",
    "print(max(dicionario))\n",
    "\n",
    "dicionario = {'a': 1, 'b': 8, 'c': 99,'d': 34, 'e': 129}\n",
    "print(max(dicionario.values()))"
   ]
  },
  {
   "cell_type": "code",
   "execution_count": 13,
   "metadata": {},
   "outputs": [
    {
     "name": "stdout",
     "output_type": "stream",
     "text": [
      "99\n"
     ]
    }
   ],
   "source": [
    "print(max(3, 45, 4, 99))"
   ]
  },
  {
   "cell_type": "code",
   "execution_count": 14,
   "metadata": {},
   "outputs": [
    {
     "name": "stdout",
     "output_type": "stream",
     "text": [
      "3\n"
     ]
    }
   ],
   "source": [
    "print(min(3, 45, 4, 99))"
   ]
  },
  {
   "cell_type": "code",
   "execution_count": 38,
   "metadata": {},
   "outputs": [
    {
     "name": "stdout",
     "output_type": "stream",
     "text": [
      "{'titulo': 'Dead Skin Mask', 'tocou': 2}\n",
      "{'titulo': \"Too old to rock'in'roll, too young to dia\", 'tocou': 32}\n",
      "Dead Skin Mask\n",
      "Too old to rock'in'roll, too young to dia\n"
     ]
    }
   ],
   "source": [
    "musicas = [\n",
    "    {\"titulo\": \"Thunderstruck\", \"tocou\":3},\n",
    "    {\"titulo\": \"Dead Skin Mask\", \"tocou\":2},\n",
    "    {\"titulo\": \"Back in Black\", \"tocou\":4},\n",
    "    {\"titulo\": \"Too old to rock'in'roll, too young to dia\", \"tocou\":32}\n",
    "    ]\n",
    "\n",
    "\n",
    "\n",
    "#min\n",
    "print(min(musicas, key=lambda musica: musica['tocou']))\n",
    "#max\n",
    "print(max(musicas, key=lambda musica: musica['tocou']))\n",
    "\n",
    "print(min(musicas, key=lambda musica: musica['tocou'])['titulo'])\n",
    "print(max(musicas, key=lambda musica: musica['tocou'])['titulo'])\n"
   ]
  },
  {
   "cell_type": "code",
   "execution_count": 40,
   "metadata": {},
   "outputs": [
    {
     "name": "stdout",
     "output_type": "stream",
     "text": [
      "Too old to rock'in'roll, too young to dia\n",
      "Dead Skin Mask\n"
     ]
    }
   ],
   "source": [
    "#Sem usar lambda\n",
    "max = 0\n",
    "for musica in musicas:\n",
    "    if musica['tocou'] > max:\n",
    "        max = musica['tocou']\n",
    "        mus = musica['titulo']\n",
    "\n",
    "print(mus)\n",
    "\n",
    "max = 9999\n",
    "for musica in musicas:\n",
    "    if musica['tocou'] < max:\n",
    "        max = musica['tocou']\n",
    "        mus = musica['titulo']\n",
    "\n",
    "print(mus)\n"
   ]
  }
 ],
 "metadata": {
  "interpreter": {
   "hash": "d410528699a2498513adfb95593a389ad4cbe234ed01963341fdfbff95c5ec33"
  },
  "kernelspec": {
   "display_name": "Python 3.10.1 64-bit (system)",
   "language": "python",
   "name": "python3"
  },
  "language_info": {
   "codemirror_mode": {
    "name": "ipython",
    "version": 3
   },
   "file_extension": ".py",
   "mimetype": "text/x-python",
   "name": "python",
   "nbconvert_exporter": "python",
   "pygments_lexer": "ipython3",
   "version": "3.10.1"
  },
  "orig_nbformat": 4
 },
 "nbformat": 4,
 "nbformat_minor": 2
}
