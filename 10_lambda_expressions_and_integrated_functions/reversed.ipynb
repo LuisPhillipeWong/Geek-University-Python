{
 "cells": [
  {
   "cell_type": "code",
   "execution_count": null,
   "metadata": {},
   "outputs": [],
   "source": [
    "'''\n",
    "REVERSED - inverter o iterável\n",
    "\n",
    "obs.: Não confundir com a função reverse() na qual é somente para listas.\n",
    "\n",
    "reversed() é aplicado em qualquer iterável. Retorna um iterável chamado List Reverse Iteror\n",
    "\n",
    "\n",
    "'''"
   ]
  },
  {
   "cell_type": "code",
   "execution_count": 1,
   "metadata": {},
   "outputs": [
    {
     "name": "stdout",
     "output_type": "stream",
     "text": [
      "<list_reverseiterator object at 0x0000019B6E999150>\n",
      "<class 'list_reverseiterator'>\n"
     ]
    }
   ],
   "source": [
    "#exemplos\n",
    "lista = [1, 2, 3, 4, 5]\n",
    "res = reversed(lista)\n",
    "\n",
    "print(res)\n",
    "print(type(res))"
   ]
  },
  {
   "cell_type": "code",
   "execution_count": 2,
   "metadata": {},
   "outputs": [
    {
     "name": "stdout",
     "output_type": "stream",
     "text": [
      "[5, 4, 3, 2, 1]\n"
     ]
    }
   ],
   "source": [
    "#Convertendo para lista, tupla ou conjunto\n",
    "#Lista\n",
    "print(list(reversed(lista)))"
   ]
  },
  {
   "cell_type": "code",
   "execution_count": 3,
   "metadata": {},
   "outputs": [
    {
     "name": "stdout",
     "output_type": "stream",
     "text": [
      "(5, 4, 3, 2, 1)\n"
     ]
    }
   ],
   "source": [
    "#Tupla\n",
    "print(tuple(reversed(lista)))"
   ]
  },
  {
   "cell_type": "code",
   "execution_count": 4,
   "metadata": {},
   "outputs": [
    {
     "name": "stdout",
     "output_type": "stream",
     "text": [
      "{1, 2, 3, 4, 5}\n"
     ]
    }
   ],
   "source": [
    "#Conjunto/Set\n",
    "print(set(reversed(lista))) #Em conjuntos não definimos a ordem dos elementos."
   ]
  },
  {
   "cell_type": "code",
   "execution_count": 6,
   "metadata": {},
   "outputs": [
    {
     "name": "stdout",
     "output_type": "stream",
     "text": [
      "ytisrevinU keeG"
     ]
    }
   ],
   "source": [
    "#Podemos iterar sobre o reversed\n",
    "for letra in reversed('Geek University'):\n",
    "    print(letra, end='')"
   ]
  },
  {
   "cell_type": "code",
   "execution_count": 7,
   "metadata": {},
   "outputs": [
    {
     "name": "stdout",
     "output_type": "stream",
     "text": [
      "ytisrevinU keeG\n"
     ]
    }
   ],
   "source": [
    "print(''.join(list(reversed('Geek University')))) #utilizando join"
   ]
  },
  {
   "cell_type": "code",
   "execution_count": 8,
   "metadata": {},
   "outputs": [
    {
     "name": "stdout",
     "output_type": "stream",
     "text": [
      "ytisrevinU keeG\n"
     ]
    }
   ],
   "source": [
    "print('Geek University'[::-1]) #utilizando slice"
   ]
  }
 ],
 "metadata": {
  "interpreter": {
   "hash": "d410528699a2498513adfb95593a389ad4cbe234ed01963341fdfbff95c5ec33"
  },
  "kernelspec": {
   "display_name": "Python 3.10.1 64-bit (system)",
   "language": "python",
   "name": "python3"
  },
  "language_info": {
   "codemirror_mode": {
    "name": "ipython",
    "version": 3
   },
   "file_extension": ".py",
   "mimetype": "text/x-python",
   "name": "python",
   "nbconvert_exporter": "python",
   "pygments_lexer": "ipython3",
   "version": "3.10.1"
  },
  "orig_nbformat": 4
 },
 "nbformat": 4,
 "nbformat_minor": 2
}
