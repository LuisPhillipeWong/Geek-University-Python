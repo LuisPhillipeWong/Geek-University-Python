{
 "cells": [
  {
   "cell_type": "code",
   "execution_count": null,
   "metadata": {},
   "outputs": [],
   "source": [
    "'''\n",
    "Sorted\n",
    "\n",
    "obs.: Não é a função sort() que estamos anteriormente.\n",
    "\n",
    "Podemos utilizar o sorted() com qualquer iterável\n",
    "'''"
   ]
  },
  {
   "cell_type": "code",
   "execution_count": 2,
   "metadata": {},
   "outputs": [
    {
     "name": "stdout",
     "output_type": "stream",
     "text": [
      "[3, 4, 4, 5, 5, 5, 7]\n"
     ]
    }
   ],
   "source": [
    "lista = [4,5,5,7,3,5,4]\n",
    "lista.sort()\n",
    "print(lista)"
   ]
  },
  {
   "cell_type": "code",
   "execution_count": 6,
   "metadata": {},
   "outputs": [
    {
     "ename": "AttributeError",
     "evalue": "'set' object has no attribute 'sort'",
     "output_type": "error",
     "traceback": [
      "\u001b[1;31m---------------------------------------------------------------------------\u001b[0m",
      "\u001b[1;31mAttributeError\u001b[0m                            Traceback (most recent call last)",
      "\u001b[1;32mc:\\Users\\Luís Wong\\Documents\\GitHub\\Geek-University-Python\\Geek-University-Python\\10_lambda_expressions_and_integrated_functions\\sorted.ipynb Cell 3'\u001b[0m in \u001b[0;36m<module>\u001b[1;34m\u001b[0m\n\u001b[0;32m      <a href='vscode-notebook-cell:/c%3A/Users/Lu%C3%ADs%20Wong/Documents/GitHub/Geek-University-Python/Geek-University-Python/10_lambda_expressions_and_integrated_functions/sorted.ipynb#ch0000002?line=0'>1</a>\u001b[0m tupla \u001b[39m=\u001b[39m {\u001b[39m4\u001b[39m,\u001b[39m5\u001b[39m,\u001b[39m7\u001b[39m,\u001b[39m3\u001b[39m,\u001b[39m4\u001b[39m}\n\u001b[1;32m----> <a href='vscode-notebook-cell:/c%3A/Users/Lu%C3%ADs%20Wong/Documents/GitHub/Geek-University-Python/Geek-University-Python/10_lambda_expressions_and_integrated_functions/sorted.ipynb#ch0000002?line=1'>2</a>\u001b[0m tupla\u001b[39m.\u001b[39;49msort()   \u001b[39m#Não é possível usar em tuplas\u001b[39;00m\n\u001b[0;32m      <a href='vscode-notebook-cell:/c%3A/Users/Lu%C3%ADs%20Wong/Documents/GitHub/Geek-University-Python/Geek-University-Python/10_lambda_expressions_and_integrated_functions/sorted.ipynb#ch0000002?line=2'>3</a>\u001b[0m \u001b[39mprint\u001b[39m(tupla)\n",
      "\u001b[1;31mAttributeError\u001b[0m: 'set' object has no attribute 'sort'"
     ]
    }
   ],
   "source": [
    "tupla = {4,5,7,3,4}\n",
    "tupla.sort()   #Não é possível usar em tuplas\n",
    "print(tupla)"
   ]
  },
  {
   "cell_type": "code",
   "execution_count": 13,
   "metadata": {},
   "outputs": [
    {
     "name": "stdout",
     "output_type": "stream",
     "text": [
      "[6, 1, 8, 2]\n"
     ]
    }
   ],
   "source": [
    "#Utilizando o sorted()\n",
    "num = [6, 1, 8, 2]\n",
    "num_set = {6, 1, 8, 2}\n",
    "print(num)\n"
   ]
  },
  {
   "cell_type": "code",
   "execution_count": 15,
   "metadata": {},
   "outputs": [
    {
     "name": "stdout",
     "output_type": "stream",
     "text": [
      "[1, 2, 6, 8]\n"
     ]
    }
   ],
   "source": [
    "print(sorted(num)) #Ordena do menor para o maior"
   ]
  },
  {
   "cell_type": "code",
   "execution_count": 16,
   "metadata": {},
   "outputs": [
    {
     "name": "stdout",
     "output_type": "stream",
     "text": [
      "[1, 2, 6, 8]\n"
     ]
    }
   ],
   "source": [
    "print(sorted(num_set))"
   ]
  },
  {
   "cell_type": "code",
   "execution_count": 41,
   "metadata": {},
   "outputs": [
    {
     "name": "stdout",
     "output_type": "stream",
     "text": [
      "[{'username': 'samuel', 'tweets': ['Eu adoro bolos', 'Eu adoro pizzas']}, {'username': 'carla', 'tweets': ['Eu amo meu gato']}, {'username': 'jeff', 'tweets': []}, {'username': 'doggo', 'tweets': ['Vou sair hoje', 'Eu gosto de cachorros']}, {'username': 'gal', 'tweets': []}]\n"
     ]
    }
   ],
   "source": [
    "usuarios = [\n",
    "    {\"username\": \"samuel\", \"tweets\": [\"Eu adoro bolos\", \"Eu adoro pizzas\"]},\n",
    "    {\"username\": \"carla\", \"tweets\": [\"Eu amo meu gato\"]},\n",
    "    {\"username\": \"jeff\", \"tweets\": []},\n",
    "    {\"username\": \"doggo\", \"tweets\": [\"Vou sair hoje\", \"Eu gosto de cachorros\"]},\n",
    "    {\"username\": \"gal\", \"tweets\": []}        \n",
    "            ]\n",
    "\n",
    "print(usuarios)"
   ]
  },
  {
   "cell_type": "code",
   "execution_count": 42,
   "metadata": {},
   "outputs": [
    {
     "name": "stdout",
     "output_type": "stream",
     "text": [
      "[{'username': 'carla', 'tweets': ['Eu amo meu gato']}, {'username': 'doggo', 'tweets': ['Vou sair hoje', 'Eu gosto de cachorros']}, {'username': 'gal', 'tweets': []}, {'username': 'jeff', 'tweets': []}, {'username': 'samuel', 'tweets': ['Eu adoro bolos', 'Eu adoro pizzas']}]\n"
     ]
    }
   ],
   "source": [
    "#ordenando via username\n",
    "print(sorted(usuarios, key=lambda usuarios: usuarios[\"username\"])) \n"
   ]
  },
  {
   "cell_type": "code",
   "execution_count": 48,
   "metadata": {},
   "outputs": [
    {
     "name": "stdout",
     "output_type": "stream",
     "text": [
      "[{'username': 'jeff', 'tweets': []}, {'username': 'gal', 'tweets': []}, {'username': 'carla', 'tweets': ['Eu amo meu gato']}, {'username': 'samuel', 'tweets': ['Eu adoro bolos', 'Eu adoro pizzas']}, {'username': 'doggo', 'tweets': ['Vou sair hoje', 'Eu gosto de cachorros']}]\n"
     ]
    }
   ],
   "source": [
    "#ordenando via número de tweets\n",
    "print(sorted(usuarios, key=lambda usuario: len(usuario[\"tweets\"]))) "
   ]
  },
  {
   "cell_type": "code",
   "execution_count": 49,
   "metadata": {},
   "outputs": [
    {
     "name": "stdout",
     "output_type": "stream",
     "text": [
      "[{'titulo': 'Dead Skin Mask', 'tocou': 2}, {'titulo': 'Thunderstruck', 'tocou': 3}, {'titulo': 'Back in Black', 'tocou': 4}, {'titulo': \"Too old to rock'in'roll, too young to dia\", 'tocou': 32}]\n"
     ]
    }
   ],
   "source": [
    "#\n",
    "musicas = [\n",
    "    {\"titulo\": \"Thunderstruck\", \"tocou\":3},\n",
    "    {\"titulo\": \"Dead Skin Mask\", \"tocou\":2},\n",
    "    {\"titulo\": \"Back in Black\", \"tocou\":4},\n",
    "    {\"titulo\": \"Too old to rock'in'roll, too young to dia\", \"tocou\":32}\n",
    "    ]\n",
    "\n",
    "#Ordenando por menos tocadas:\n",
    "print(sorted(musicas, key = lambda musica:musica[\"tocou\"]))"
   ]
  },
  {
   "cell_type": "code",
   "execution_count": 50,
   "metadata": {},
   "outputs": [
    {
     "name": "stdout",
     "output_type": "stream",
     "text": [
      "[{'titulo': \"Too old to rock'in'roll, too young to dia\", 'tocou': 32}, {'titulo': 'Back in Black', 'tocou': 4}, {'titulo': 'Thunderstruck', 'tocou': 3}, {'titulo': 'Dead Skin Mask', 'tocou': 2}]\n"
     ]
    }
   ],
   "source": [
    "#Ordenando por mais tocadas:\n",
    "print(sorted(musicas, key = lambda musica:musica[\"tocou\"], reverse=True))"
   ]
  }
 ],
 "metadata": {
  "interpreter": {
   "hash": "d410528699a2498513adfb95593a389ad4cbe234ed01963341fdfbff95c5ec33"
  },
  "kernelspec": {
   "display_name": "Python 3.10.1 64-bit (system)",
   "language": "python",
   "name": "python3"
  },
  "language_info": {
   "codemirror_mode": {
    "name": "ipython",
    "version": 3
   },
   "file_extension": ".py",
   "mimetype": "text/x-python",
   "name": "python",
   "nbconvert_exporter": "python",
   "pygments_lexer": "ipython3",
   "version": "3.10.1"
  },
  "orig_nbformat": 4
 },
 "nbformat": 4,
 "nbformat_minor": 2
}
