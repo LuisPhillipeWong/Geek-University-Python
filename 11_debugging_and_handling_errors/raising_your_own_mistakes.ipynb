{
 "cells": [
  {
   "cell_type": "code",
   "execution_count": 6,
   "metadata": {},
   "outputs": [],
   "source": [
    "def color(text, color):\n",
    "    colors = (\"cyan\", \"yellow\", \"magenta\")\n",
    "    if type(color) is not str:\n",
    "        raise TypeError(\"color must be a string\")\n",
    "    if type(text) is not str:\n",
    "        raise TypeError(\"text must be a string\")\n",
    "    if color not in colors:\n",
    "        raise ValueError(\"color must be a valid color\")\n",
    "\n",
    "\n",
    "color(\"hello\", \"yellow\")                         "
   ]
  },
  {
   "cell_type": "code",
   "execution_count": 7,
   "metadata": {},
   "outputs": [
    {
     "ename": "ValueError",
     "evalue": "color must be a valid color",
     "output_type": "error",
     "traceback": [
      "\u001b[1;31m---------------------------------------------------------------------------\u001b[0m",
      "\u001b[1;31mValueError\u001b[0m                                Traceback (most recent call last)",
      "\u001b[1;32mc:\\Users\\Luís Wong\\Documents\\GitHub\\Geek-University-Python\\Geek-University-Python\\11_debugging_andhandling_errors\\raising_your_own_mistakes.ipynb Cell 2'\u001b[0m in \u001b[0;36m<module>\u001b[1;34m\u001b[0m\n\u001b[1;32m----> <a href='vscode-notebook-cell:/c%3A/Users/Lu%C3%ADs%20Wong/Documents/GitHub/Geek-University-Python/Geek-University-Python/11_debugging_andhandling_errors/raising_your_own_mistakes.ipynb#ch0000001?line=0'>1</a>\u001b[0m color(\u001b[39m\"\u001b[39;49m\u001b[39mhello\u001b[39;49m\u001b[39m\"\u001b[39;49m, \u001b[39m\"\u001b[39;49m\u001b[39mblue\u001b[39;49m\u001b[39m\"\u001b[39;49m)\n",
      "\u001b[1;32mc:\\Users\\Luís Wong\\Documents\\GitHub\\Geek-University-Python\\Geek-University-Python\\11_debugging_andhandling_errors\\raising_your_own_mistakes.ipynb Cell 1'\u001b[0m in \u001b[0;36mcolor\u001b[1;34m(text, color)\u001b[0m\n\u001b[0;32m      <a href='vscode-notebook-cell:/c%3A/Users/Lu%C3%ADs%20Wong/Documents/GitHub/Geek-University-Python/Geek-University-Python/11_debugging_andhandling_errors/raising_your_own_mistakes.ipynb#ch0000000?line=5'>6</a>\u001b[0m     \u001b[39mraise\u001b[39;00m \u001b[39mTypeError\u001b[39;00m(\u001b[39m\"\u001b[39m\u001b[39mtext must be a string\u001b[39m\u001b[39m\"\u001b[39m)\n\u001b[0;32m      <a href='vscode-notebook-cell:/c%3A/Users/Lu%C3%ADs%20Wong/Documents/GitHub/Geek-University-Python/Geek-University-Python/11_debugging_andhandling_errors/raising_your_own_mistakes.ipynb#ch0000000?line=6'>7</a>\u001b[0m \u001b[39mif\u001b[39;00m color \u001b[39mnot\u001b[39;00m \u001b[39min\u001b[39;00m colors:\n\u001b[1;32m----> <a href='vscode-notebook-cell:/c%3A/Users/Lu%C3%ADs%20Wong/Documents/GitHub/Geek-University-Python/Geek-University-Python/11_debugging_andhandling_errors/raising_your_own_mistakes.ipynb#ch0000000?line=7'>8</a>\u001b[0m     \u001b[39mraise\u001b[39;00m \u001b[39mValueError\u001b[39;00m(\u001b[39m\"\u001b[39m\u001b[39mcolor must be a valid color\u001b[39m\u001b[39m\"\u001b[39m)\n",
      "\u001b[1;31mValueError\u001b[0m: color must be a valid color"
     ]
    }
   ],
   "source": [
    "color(\"hello\", \"blue\")"
   ]
  }
 ],
 "metadata": {
  "interpreter": {
   "hash": "d410528699a2498513adfb95593a389ad4cbe234ed01963341fdfbff95c5ec33"
  },
  "kernelspec": {
   "display_name": "Python 3.10.1 64-bit (system)",
   "language": "python",
   "name": "python3"
  },
  "language_info": {
   "codemirror_mode": {
    "name": "ipython",
    "version": 3
   },
   "file_extension": ".py",
   "mimetype": "text/x-python",
   "name": "python",
   "nbconvert_exporter": "python",
   "pygments_lexer": "ipython3",
   "version": "3.10.1"
  },
  "orig_nbformat": 4
 },
 "nbformat": 4,
 "nbformat_minor": 2
}
