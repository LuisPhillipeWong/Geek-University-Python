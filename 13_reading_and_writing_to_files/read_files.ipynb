{
 "cells": [
  {
   "cell_type": "code",
   "execution_count": null,
   "metadata": {},
   "outputs": [],
   "source": [
    "'''\n",
    "Read files\n",
    "\n",
    "for reading files, we use the open() function. \n",
    "The open() function takes two arguments: the name of the file and the mode. \n",
    "The mode is either 'r' for reading or 'w' for writing. \n",
    "The open() function returns a file object. \n",
    "We can use the file object to read the file. \n",
    "We can also use the file object to write to the file. \n",
    "The file object is a special type of variable. \n",
    "It is an object that represents a file. \n",
    "We can use the file object to read and write to the file. \n",
    "We can also close the file. We can also use the file object to do other things. \n",
    "For example, we can use the file object to check if the file exists.  \n",
    "We can also use the file object to check if the file is empty.\n",
    " \n",
    "'''"
   ]
  },
  {
   "cell_type": "code",
   "execution_count": 15,
   "metadata": {},
   "outputs": [
    {
     "name": "stdout",
     "output_type": "stream",
     "text": [
      "<_io.TextIOWrapper name='text.txt' mode='r' encoding='cp1252'>\n",
      "O Brasil, um vasto paÃ­s sul-americano, estende-se da Bacia AmazÃ´nica, no norte, \n",
      "atÃ© os vinhedos e as gigantescas Cataratas do IguaÃ§u, no sul. O Rio de Janeiro, \n",
      "simbolizado pela sua estÃ¡tua de 38 metros de altura do Cristo Redentor, situada no topo do Corcovado, \n",
      "Ã© famoso pelas movimentadas praias de Copacabana e Ipanema, bem como pelo imenso e animado Carnaval, \n",
      "com desfiles de carros alegÃ³ricos, fantasias extravagantes e samba. \n"
     ]
    }
   ],
   "source": [
    "file = open('text.txt', 'r')\n",
    "print(file) # <_io.TextIOWrapper name='text.txt' mode='r' encoding='UTF-8'>\n",
    "print(file.read()) # read the entire file\n"
   ]
  },
  {
   "cell_type": "code",
   "execution_count": 25,
   "metadata": {},
   "outputs": [
    {
     "name": "stderr",
     "output_type": "stream",
     "text": [
      "'cat' n�o � reconhecido como um comando interno\n",
      "ou externo, um programa oper�vel ou um arquivo em lotes.\n"
     ]
    }
   ],
   "source": []
  }
 ],
 "metadata": {
  "interpreter": {
   "hash": "d410528699a2498513adfb95593a389ad4cbe234ed01963341fdfbff95c5ec33"
  },
  "kernelspec": {
   "display_name": "Python 3.10.1 64-bit (system)",
   "language": "python",
   "name": "python3"
  },
  "language_info": {
   "codemirror_mode": {
    "name": "ipython",
    "version": 3
   },
   "file_extension": ".py",
   "mimetype": "text/x-python",
   "name": "python",
   "nbconvert_exporter": "python",
   "pygments_lexer": "ipython3",
   "version": "3.10.1"
  },
  "orig_nbformat": 4
 },
 "nbformat": 4,
 "nbformat_minor": 2
}
