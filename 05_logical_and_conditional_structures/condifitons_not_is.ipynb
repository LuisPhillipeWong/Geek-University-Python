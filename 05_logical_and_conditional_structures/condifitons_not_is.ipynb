{
 "cells": [
  {
   "cell_type": "code",
   "execution_count": 1,
   "metadata": {},
   "outputs": [
    {
     "name": "stdout",
     "output_type": "stream",
     "text": [
      "You need actived your account. Please, check your email.\n"
     ]
    }
   ],
   "source": [
    "active = False\n",
    "logged = False\n",
    "\n",
    "if not active:\n",
    "    print (\"You need actived your account. Please, check your email.\")\n",
    "else:\n",
    "    print(\"Welcome user\")"
   ]
  },
  {
   "cell_type": "code",
   "execution_count": 4,
   "metadata": {},
   "outputs": [
    {
     "name": "stdout",
     "output_type": "stream",
     "text": [
      "Welcome user\n"
     ]
    }
   ],
   "source": [
    "active = True\n",
    "logged = False\n",
    "\n",
    "if active is False:\n",
    "    print (\"You need actived your account. Please, check your email.\")\n",
    "else:\n",
    "    print(\"Welcome user\")"
   ]
  }
 ],
 "metadata": {
  "interpreter": {
   "hash": "d410528699a2498513adfb95593a389ad4cbe234ed01963341fdfbff95c5ec33"
  },
  "kernelspec": {
   "display_name": "Python 3.10.1 64-bit (system)",
   "language": "python",
   "name": "python3"
  },
  "language_info": {
   "codemirror_mode": {
    "name": "ipython",
    "version": 3
   },
   "file_extension": ".py",
   "mimetype": "text/x-python",
   "name": "python",
   "nbconvert_exporter": "python",
   "pygments_lexer": "ipython3",
   "version": "3.10.1"
  },
  "orig_nbformat": 4
 },
 "nbformat": 4,
 "nbformat_minor": 2
}
