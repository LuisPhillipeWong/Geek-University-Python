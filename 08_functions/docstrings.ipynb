{
 "cells": [
  {
   "cell_type": "code",
   "execution_count": 1,
   "metadata": {},
   "outputs": [],
   "source": [
    "#Declarando a documentação da função\n",
    "\n",
    "def diz_oi():\n",
    "    \"\"\"Uma função simples que retorna a string 'Oi' \"\"\"\n",
    "    return 'Oi'"
   ]
  },
  {
   "cell_type": "code",
   "execution_count": null,
   "metadata": {},
   "outputs": [],
   "source": [
    "#Poderiamos importar a def:\n",
    "\n",
    "#from nomedoprogram.py import diz_oi\n"
   ]
  }
 ],
 "metadata": {
  "interpreter": {
   "hash": "d410528699a2498513adfb95593a389ad4cbe234ed01963341fdfbff95c5ec33"
  },
  "kernelspec": {
   "display_name": "Python 3.10.1 64-bit (system)",
   "language": "python",
   "name": "python3"
  },
  "language_info": {
   "codemirror_mode": {
    "name": "ipython",
    "version": 3
   },
   "file_extension": ".py",
   "mimetype": "text/x-python",
   "name": "python",
   "nbconvert_exporter": "python",
   "pygments_lexer": "ipython3",
   "version": "3.10.1"
  },
  "orig_nbformat": 4
 },
 "nbformat": 4,
 "nbformat_minor": 2
}
