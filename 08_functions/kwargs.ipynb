{
 "cells": [
  {
   "cell_type": "code",
   "execution_count": 5,
   "metadata": {},
   "outputs": [
    {
     "name": "stdout",
     "output_type": "stream",
     "text": [
      "A cor favorita de Marcos é verde.\n",
      "A cor favorita de Julia é amarelo.\n",
      "A cor favorita de Fernanda é azul.\n",
      "A cor favorita de Vanessa é branco.\n"
     ]
    }
   ],
   "source": [
    "def cores_favoritas(**kwargs):\n",
    "    for pessoa, cor in kwargs.items():\n",
    "        print(f'A cor favorita de {pessoa.title()} é {cor}.')\n",
    "    \n",
    "cores_favoritas(marcos='verde',julia='amarelo', fernanda='azul', vanessa='branco')    "
   ]
  },
  {
   "cell_type": "code",
   "execution_count": 7,
   "metadata": {},
   "outputs": [
    {
     "name": "stdout",
     "output_type": "stream",
     "text": [
      "Não tenho certeza quem você é ...\n",
      "Você recebeu um cumprimento pythonico\n",
      "oi Geek!\n",
      "especial Geek!\n"
     ]
    }
   ],
   "source": [
    "def cumprimento_especial(**kwargs):\n",
    "    if 'geek' in kwargs and kwargs['geek']=='Python':\n",
    "        return 'Você recebeu um cumprimento pythonico'\n",
    "    elif 'geek' in kwargs:\n",
    "        return f\"{kwargs['geek']} Geek!\"\n",
    "    return 'Não tenho certeza quem você é ...'\n",
    "\n",
    "print(cumprimento_especial())\n",
    "print(cumprimento_especial(geek='Python'))\n",
    "print(cumprimento_especial(geek='oi'))\n",
    "print(cumprimento_especial(geek='especial'))\n"
   ]
  },
  {
   "cell_type": "code",
   "execution_count": null,
   "metadata": {},
   "outputs": [],
   "source": [
    "'''\n",
    "\n",
    "Nas funções podemos ter (NESTA ORDEM):\n",
    "\n",
    "- Paramêtros obrigatórios\n",
    "- *args\n",
    "- Parâmetros default (não obrigatórios)\n",
    "- **kwargs\n",
    "\n",
    "\n",
    "'''"
   ]
  },
  {
   "cell_type": "code",
   "execution_count": 11,
   "metadata": {},
   "outputs": [
    {
     "name": "stdout",
     "output_type": "stream",
     "text": [
      "[1, 2, (3,), 'Geek', {'sobrenome': 'University', 'cargo': 'Instrutor'}]\n"
     ]
    }
   ],
   "source": [
    "def mostra_info(a, b, *args, intrututor='Geek', **kwargs):\n",
    "    return [a, b, args, intrututor, kwargs]\n",
    "print(mostra_info(1,2,3,sobrenome='University',cargo='Instrutor'))"
   ]
  },
  {
   "cell_type": "code",
   "execution_count": 12,
   "metadata": {},
   "outputs": [
    {
     "name": "stdout",
     "output_type": "stream",
     "text": [
      "Felicity Jones\n",
      "Felicity Jones\n"
     ]
    }
   ],
   "source": [
    "def mostra_nomes(**kwargs):\n",
    "    return f\"{kwargs['nome']} {kwargs['sobrenome']}\"\n",
    "\n",
    "nomes = {'nome':'Felicity', 'sobrenome':'Jones'}\n",
    "# print(mostra_nomes(nomes))  ERRADO\n",
    "print(mostra_nomes(**nomes))     #utilizando o desempacotador    **\n",
    "print(mostra_nomes(nome='Felicity',sobrenome='Jones' )) "
   ]
  }
 ],
 "metadata": {
  "interpreter": {
   "hash": "d410528699a2498513adfb95593a389ad4cbe234ed01963341fdfbff95c5ec33"
  },
  "kernelspec": {
   "display_name": "Python 3.10.1 64-bit (system)",
   "language": "python",
   "name": "python3"
  },
  "language_info": {
   "codemirror_mode": {
    "name": "ipython",
    "version": 3
   },
   "file_extension": ".py",
   "mimetype": "text/x-python",
   "name": "python",
   "nbconvert_exporter": "python",
   "pygments_lexer": "ipython3",
   "version": "3.10.1"
  },
  "orig_nbformat": 4
 },
 "nbformat": 4,
 "nbformat_minor": 2
}
