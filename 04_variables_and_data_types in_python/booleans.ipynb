{
 "cells": [
  {
   "cell_type": "markdown",
   "metadata": {},
   "source": [
    "Created for George Boole\n",
    "2 constants = True or False\n",
    "\n",
    "Always with the initial letter\n",
    "\n",
    "Error:\n",
    "truth or false\n",
    "\n",
    "Correct:\n",
    "Truth or false"
   ]
  },
  {
   "cell_type": "code",
   "execution_count": 9,
   "metadata": {},
   "outputs": [
    {
     "name": "stdout",
     "output_type": "stream",
     "text": [
      "True\n"
     ]
    }
   ],
   "source": [
    "active = True\n",
    "print(active)"
   ]
  },
  {
   "cell_type": "markdown",
   "metadata": {},
   "source": [
    "NOT\n",
    "Doing the negation if the boolean value is true the result will be false.\n",
    "\n",
    "If it is false it will be true. That is, always the opposite."
   ]
  },
  {
   "cell_type": "code",
   "execution_count": 10,
   "metadata": {},
   "outputs": [
    {
     "name": "stdout",
     "output_type": "stream",
     "text": [
      "False\n"
     ]
    }
   ],
   "source": [
    "print(not active)"
   ]
  },
  {
   "cell_type": "code",
   "execution_count": 11,
   "metadata": {},
   "outputs": [
    {
     "name": "stdout",
     "output_type": "stream",
     "text": [
      "True\n",
      "False\n"
     ]
    }
   ],
   "source": [
    "print(not False)\n",
    "print(not True)"
   ]
  },
  {
   "cell_type": "code",
   "execution_count": 12,
   "metadata": {},
   "outputs": [
    {
     "data": {
      "text/plain": [
       "'\\nOR\\n\\nTrue or True -> True\\nTrue or False -> True\\nFalse or True -> True\\nFalse ou False -> False\\n\\nAND\\n\\nTrue and True -> True\\nTrue and False -> False\\nFalse and True -> False\\nFalse and False -> False\\n'"
      ]
     },
     "execution_count": 12,
     "metadata": {},
     "output_type": "execute_result"
    }
   ],
   "source": [
    "'''\n",
    "OR\n",
    "\n",
    "True or True -> True\n",
    "True or False -> True\n",
    "False or True -> True\n",
    "False ou False -> False\n",
    "\n",
    "AND\n",
    "\n",
    "True and True -> True\n",
    "True and False -> False\n",
    "False and True -> False\n",
    "False and False -> False\n",
    "'''"
   ]
  }
 ],
 "metadata": {
  "interpreter": {
   "hash": "d410528699a2498513adfb95593a389ad4cbe234ed01963341fdfbff95c5ec33"
  },
  "kernelspec": {
   "display_name": "Python 3.10.1 64-bit (system)",
   "language": "python",
   "name": "python3"
  },
  "language_info": {
   "codemirror_mode": {
    "name": "ipython",
    "version": 3
   },
   "file_extension": ".py",
   "mimetype": "text/x-python",
   "name": "python",
   "nbconvert_exporter": "python",
   "pygments_lexer": "ipython3",
   "version": "3.10.1"
  },
  "orig_nbformat": 4
 },
 "nbformat": 4,
 "nbformat_minor": 2
}
